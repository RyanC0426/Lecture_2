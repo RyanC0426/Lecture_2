{
 "cells": [
  {
   "cell_type": "markdown",
   "metadata": {
    "id": "7ywSRtNI4s5h"
   },
   "source": [
    "# 1.) Import the data from CCLE into a new Google Colab file"
   ]
  },
  {
   "cell_type": "code",
   "execution_count": null,
   "metadata": {
    "id": "nsG1QV154GYZ"
   },
   "outputs": [],
   "source": [
    "import pandas as pd\n",
    "from google.colab import drive\n",
    "import matplotlib.pyplot as plt\n",
    "import sklearn as sk\n",
    "from sklearn.linear_model import LinearRegression\n",
    "import statsmodels.api as sm"
   ]
  },
  {
   "cell_type": "code",
   "execution_count": null,
   "metadata": {
    "colab": {
     "base_uri": "https://localhost:8080/"
    },
    "id": "Iku0T8Ou4Lcu",
    "outputId": "2147a213-b01c-4892-e15a-4f77213d217a"
   },
   "outputs": [
    {
     "name": "stdout",
     "output_type": "stream",
     "text": [
      "Mounted at /content/gdrive/\n"
     ]
    }
   ],
   "source": [
    "drive.mount('/content/gdrive/', force_remount = True)"
   ]
  },
  {
   "cell_type": "code",
   "execution_count": null,
   "metadata": {
    "id": "KJQfo8mz43Kz"
   },
   "outputs": [],
   "source": [
    "df = pd.read_csv('/content/gdrive/MyDrive/insurance.csv')"
   ]
  },
  {
   "cell_type": "code",
   "execution_count": null,
   "metadata": {
    "id": "N9Y_AoeC43Ub"
   },
   "outputs": [],
   "source": [
    "df.loc[df['sex'] == 'female', 'sex'] = 1\n",
    "df.loc[df['sex'] == 'male', 'sex'] = 0\n",
    "\n",
    "df.loc[df['smoker'] == 'yes', 'smoker'] = 1\n",
    "df.loc[df['smoker'] == 'no', 'smoker'] = 0\n",
    "\n",
    "df['region1'] = df['region']\n",
    "df.loc[df['region1'] == 'southwest', 'region1'] = 1\n",
    "df.loc[df['region1'] == 'southeast', 'region1'] = 0\n",
    "df.loc[df['region1'] == 'northwest', 'region1'] = 0\n",
    "df.loc[df['region1'] == 'northeast', 'region1'] = 0\n",
    "\n",
    "df['region2'] = df['region']\n",
    "df.loc[df['region2'] == 'southwest', 'region2'] = 0\n",
    "df.loc[df['region2'] == 'southeast', 'region2'] = 1\n",
    "df.loc[df['region2'] == 'northwest', 'region2'] = 0\n",
    "df.loc[df['region2'] == 'northeast', 'region2'] = 0\n",
    "\n",
    "df['region3'] = df['region']\n",
    "df.loc[df['region3'] == 'southwest', 'region3'] = 0\n",
    "df.loc[df['region3'] == 'southeast', 'region3'] = 0\n",
    "df.loc[df['region3'] == 'northwest', 'region3'] = 1\n",
    "df.loc[df['region3'] == 'northeast', 'region3'] = 0\n",
    "\n",
    "df['region4'] = df['region']\n",
    "df.loc[df['region4'] == 'southwest', 'region4'] = 0\n",
    "df.loc[df['region4'] == 'southeast', 'region4'] = 0\n",
    "df.loc[df['region4'] == 'northwest', 'region4'] = 0\n",
    "df.loc[df['region4'] == 'northeast', 'region4'] = 1"
   ]
  },
  {
   "cell_type": "code",
   "execution_count": null,
   "metadata": {
    "colab": {
     "base_uri": "https://localhost:8080/",
     "height": 423
    },
    "id": "JvktLOSE5cfm",
    "outputId": "086f2e90-6675-4a34-9272-2784bead4a3a"
   },
   "outputs": [
    {
     "data": {
      "text/html": [
       "\n",
       "  <div id=\"df-be359be4-35c7-444e-86f8-307566a2065c\">\n",
       "    <div class=\"colab-df-container\">\n",
       "      <div>\n",
       "<style scoped>\n",
       "    .dataframe tbody tr th:only-of-type {\n",
       "        vertical-align: middle;\n",
       "    }\n",
       "\n",
       "    .dataframe tbody tr th {\n",
       "        vertical-align: top;\n",
       "    }\n",
       "\n",
       "    .dataframe thead th {\n",
       "        text-align: right;\n",
       "    }\n",
       "</style>\n",
       "<table border=\"1\" class=\"dataframe\">\n",
       "  <thead>\n",
       "    <tr style=\"text-align: right;\">\n",
       "      <th></th>\n",
       "      <th>age</th>\n",
       "      <th>sex</th>\n",
       "      <th>bmi</th>\n",
       "      <th>children</th>\n",
       "      <th>smoker</th>\n",
       "      <th>region</th>\n",
       "      <th>charges</th>\n",
       "      <th>region1</th>\n",
       "      <th>region2</th>\n",
       "      <th>region3</th>\n",
       "      <th>region4</th>\n",
       "    </tr>\n",
       "  </thead>\n",
       "  <tbody>\n",
       "    <tr>\n",
       "      <th>0</th>\n",
       "      <td>19</td>\n",
       "      <td>1</td>\n",
       "      <td>27.900</td>\n",
       "      <td>0</td>\n",
       "      <td>1</td>\n",
       "      <td>southwest</td>\n",
       "      <td>16884.92400</td>\n",
       "      <td>1</td>\n",
       "      <td>0</td>\n",
       "      <td>0</td>\n",
       "      <td>0</td>\n",
       "    </tr>\n",
       "    <tr>\n",
       "      <th>1</th>\n",
       "      <td>18</td>\n",
       "      <td>0</td>\n",
       "      <td>33.770</td>\n",
       "      <td>1</td>\n",
       "      <td>0</td>\n",
       "      <td>southeast</td>\n",
       "      <td>1725.55230</td>\n",
       "      <td>0</td>\n",
       "      <td>1</td>\n",
       "      <td>0</td>\n",
       "      <td>0</td>\n",
       "    </tr>\n",
       "    <tr>\n",
       "      <th>2</th>\n",
       "      <td>28</td>\n",
       "      <td>0</td>\n",
       "      <td>33.000</td>\n",
       "      <td>3</td>\n",
       "      <td>0</td>\n",
       "      <td>southeast</td>\n",
       "      <td>4449.46200</td>\n",
       "      <td>0</td>\n",
       "      <td>1</td>\n",
       "      <td>0</td>\n",
       "      <td>0</td>\n",
       "    </tr>\n",
       "    <tr>\n",
       "      <th>3</th>\n",
       "      <td>33</td>\n",
       "      <td>0</td>\n",
       "      <td>22.705</td>\n",
       "      <td>0</td>\n",
       "      <td>0</td>\n",
       "      <td>northwest</td>\n",
       "      <td>21984.47061</td>\n",
       "      <td>0</td>\n",
       "      <td>0</td>\n",
       "      <td>1</td>\n",
       "      <td>0</td>\n",
       "    </tr>\n",
       "    <tr>\n",
       "      <th>4</th>\n",
       "      <td>32</td>\n",
       "      <td>0</td>\n",
       "      <td>28.880</td>\n",
       "      <td>0</td>\n",
       "      <td>0</td>\n",
       "      <td>northwest</td>\n",
       "      <td>3866.85520</td>\n",
       "      <td>0</td>\n",
       "      <td>0</td>\n",
       "      <td>1</td>\n",
       "      <td>0</td>\n",
       "    </tr>\n",
       "    <tr>\n",
       "      <th>...</th>\n",
       "      <td>...</td>\n",
       "      <td>...</td>\n",
       "      <td>...</td>\n",
       "      <td>...</td>\n",
       "      <td>...</td>\n",
       "      <td>...</td>\n",
       "      <td>...</td>\n",
       "      <td>...</td>\n",
       "      <td>...</td>\n",
       "      <td>...</td>\n",
       "      <td>...</td>\n",
       "    </tr>\n",
       "    <tr>\n",
       "      <th>1333</th>\n",
       "      <td>50</td>\n",
       "      <td>0</td>\n",
       "      <td>30.970</td>\n",
       "      <td>3</td>\n",
       "      <td>0</td>\n",
       "      <td>northwest</td>\n",
       "      <td>10600.54830</td>\n",
       "      <td>0</td>\n",
       "      <td>0</td>\n",
       "      <td>1</td>\n",
       "      <td>0</td>\n",
       "    </tr>\n",
       "    <tr>\n",
       "      <th>1334</th>\n",
       "      <td>18</td>\n",
       "      <td>1</td>\n",
       "      <td>31.920</td>\n",
       "      <td>0</td>\n",
       "      <td>0</td>\n",
       "      <td>northeast</td>\n",
       "      <td>2205.98080</td>\n",
       "      <td>0</td>\n",
       "      <td>0</td>\n",
       "      <td>0</td>\n",
       "      <td>1</td>\n",
       "    </tr>\n",
       "    <tr>\n",
       "      <th>1335</th>\n",
       "      <td>18</td>\n",
       "      <td>1</td>\n",
       "      <td>36.850</td>\n",
       "      <td>0</td>\n",
       "      <td>0</td>\n",
       "      <td>southeast</td>\n",
       "      <td>1629.83350</td>\n",
       "      <td>0</td>\n",
       "      <td>1</td>\n",
       "      <td>0</td>\n",
       "      <td>0</td>\n",
       "    </tr>\n",
       "    <tr>\n",
       "      <th>1336</th>\n",
       "      <td>21</td>\n",
       "      <td>1</td>\n",
       "      <td>25.800</td>\n",
       "      <td>0</td>\n",
       "      <td>0</td>\n",
       "      <td>southwest</td>\n",
       "      <td>2007.94500</td>\n",
       "      <td>1</td>\n",
       "      <td>0</td>\n",
       "      <td>0</td>\n",
       "      <td>0</td>\n",
       "    </tr>\n",
       "    <tr>\n",
       "      <th>1337</th>\n",
       "      <td>61</td>\n",
       "      <td>1</td>\n",
       "      <td>29.070</td>\n",
       "      <td>0</td>\n",
       "      <td>1</td>\n",
       "      <td>northwest</td>\n",
       "      <td>29141.36030</td>\n",
       "      <td>0</td>\n",
       "      <td>0</td>\n",
       "      <td>1</td>\n",
       "      <td>0</td>\n",
       "    </tr>\n",
       "  </tbody>\n",
       "</table>\n",
       "<p>1338 rows × 11 columns</p>\n",
       "</div>\n",
       "      <button class=\"colab-df-convert\" onclick=\"convertToInteractive('df-be359be4-35c7-444e-86f8-307566a2065c')\"\n",
       "              title=\"Convert this dataframe to an interactive table.\"\n",
       "              style=\"display:none;\">\n",
       "        \n",
       "  <svg xmlns=\"http://www.w3.org/2000/svg\" height=\"24px\"viewBox=\"0 0 24 24\"\n",
       "       width=\"24px\">\n",
       "    <path d=\"M0 0h24v24H0V0z\" fill=\"none\"/>\n",
       "    <path d=\"M18.56 5.44l.94 2.06.94-2.06 2.06-.94-2.06-.94-.94-2.06-.94 2.06-2.06.94zm-11 1L8.5 8.5l.94-2.06 2.06-.94-2.06-.94L8.5 2.5l-.94 2.06-2.06.94zm10 10l.94 2.06.94-2.06 2.06-.94-2.06-.94-.94-2.06-.94 2.06-2.06.94z\"/><path d=\"M17.41 7.96l-1.37-1.37c-.4-.4-.92-.59-1.43-.59-.52 0-1.04.2-1.43.59L10.3 9.45l-7.72 7.72c-.78.78-.78 2.05 0 2.83L4 21.41c.39.39.9.59 1.41.59.51 0 1.02-.2 1.41-.59l7.78-7.78 2.81-2.81c.8-.78.8-2.07 0-2.86zM5.41 20L4 18.59l7.72-7.72 1.47 1.35L5.41 20z\"/>\n",
       "  </svg>\n",
       "      </button>\n",
       "      \n",
       "  <style>\n",
       "    .colab-df-container {\n",
       "      display:flex;\n",
       "      flex-wrap:wrap;\n",
       "      gap: 12px;\n",
       "    }\n",
       "\n",
       "    .colab-df-convert {\n",
       "      background-color: #E8F0FE;\n",
       "      border: none;\n",
       "      border-radius: 50%;\n",
       "      cursor: pointer;\n",
       "      display: none;\n",
       "      fill: #1967D2;\n",
       "      height: 32px;\n",
       "      padding: 0 0 0 0;\n",
       "      width: 32px;\n",
       "    }\n",
       "\n",
       "    .colab-df-convert:hover {\n",
       "      background-color: #E2EBFA;\n",
       "      box-shadow: 0px 1px 2px rgba(60, 64, 67, 0.3), 0px 1px 3px 1px rgba(60, 64, 67, 0.15);\n",
       "      fill: #174EA6;\n",
       "    }\n",
       "\n",
       "    [theme=dark] .colab-df-convert {\n",
       "      background-color: #3B4455;\n",
       "      fill: #D2E3FC;\n",
       "    }\n",
       "\n",
       "    [theme=dark] .colab-df-convert:hover {\n",
       "      background-color: #434B5C;\n",
       "      box-shadow: 0px 1px 3px 1px rgba(0, 0, 0, 0.15);\n",
       "      filter: drop-shadow(0px 1px 2px rgba(0, 0, 0, 0.3));\n",
       "      fill: #FFFFFF;\n",
       "    }\n",
       "  </style>\n",
       "\n",
       "      <script>\n",
       "        const buttonEl =\n",
       "          document.querySelector('#df-be359be4-35c7-444e-86f8-307566a2065c button.colab-df-convert');\n",
       "        buttonEl.style.display =\n",
       "          google.colab.kernel.accessAllowed ? 'block' : 'none';\n",
       "\n",
       "        async function convertToInteractive(key) {\n",
       "          const element = document.querySelector('#df-be359be4-35c7-444e-86f8-307566a2065c');\n",
       "          const dataTable =\n",
       "            await google.colab.kernel.invokeFunction('convertToInteractive',\n",
       "                                                     [key], {});\n",
       "          if (!dataTable) return;\n",
       "\n",
       "          const docLinkHtml = 'Like what you see? Visit the ' +\n",
       "            '<a target=\"_blank\" href=https://colab.research.google.com/notebooks/data_table.ipynb>data table notebook</a>'\n",
       "            + ' to learn more about interactive tables.';\n",
       "          element.innerHTML = '';\n",
       "          dataTable['output_type'] = 'display_data';\n",
       "          await google.colab.output.renderOutput(dataTable, element);\n",
       "          const docLink = document.createElement('div');\n",
       "          docLink.innerHTML = docLinkHtml;\n",
       "          element.appendChild(docLink);\n",
       "        }\n",
       "      </script>\n",
       "    </div>\n",
       "  </div>\n",
       "  "
      ],
      "text/plain": [
       "      age sex     bmi  children smoker     region      charges region1  \\\n",
       "0      19   1  27.900         0      1  southwest  16884.92400       1   \n",
       "1      18   0  33.770         1      0  southeast   1725.55230       0   \n",
       "2      28   0  33.000         3      0  southeast   4449.46200       0   \n",
       "3      33   0  22.705         0      0  northwest  21984.47061       0   \n",
       "4      32   0  28.880         0      0  northwest   3866.85520       0   \n",
       "...   ...  ..     ...       ...    ...        ...          ...     ...   \n",
       "1333   50   0  30.970         3      0  northwest  10600.54830       0   \n",
       "1334   18   1  31.920         0      0  northeast   2205.98080       0   \n",
       "1335   18   1  36.850         0      0  southeast   1629.83350       0   \n",
       "1336   21   1  25.800         0      0  southwest   2007.94500       1   \n",
       "1337   61   1  29.070         0      1  northwest  29141.36030       0   \n",
       "\n",
       "     region2 region3 region4  \n",
       "0          0       0       0  \n",
       "1          1       0       0  \n",
       "2          1       0       0  \n",
       "3          0       1       0  \n",
       "4          0       1       0  \n",
       "...      ...     ...     ...  \n",
       "1333       0       1       0  \n",
       "1334       0       0       1  \n",
       "1335       1       0       0  \n",
       "1336       0       0       0  \n",
       "1337       0       1       0  \n",
       "\n",
       "[1338 rows x 11 columns]"
      ]
     },
     "execution_count": 62,
     "metadata": {},
     "output_type": "execute_result"
    }
   ],
   "source": [
    "df"
   ]
  },
  {
   "cell_type": "code",
   "execution_count": null,
   "metadata": {
    "id": "EU2j_fos48Uz"
   },
   "outputs": [],
   "source": [
    "import numpy as np\n",
    "subset = df[[\"age\", \"sex\", \"bmi\", \"children\", \"smoker\", \"region1\", \"region2\", \"region3\"]]\n",
    "data = np.array(subset)\n",
    "target = np.array(df.iloc[:,-5:-4])"
   ]
  },
  {
   "cell_type": "code",
   "execution_count": null,
   "metadata": {
    "colab": {
     "base_uri": "https://localhost:8080/"
    },
    "id": "4jHC0u1Ur-xV",
    "outputId": "90d35076-8aec-4af8-a865-b8d8b249399c"
   },
   "outputs": [
    {
     "data": {
      "text/plain": [
       "array([[19, 1, 27.9, ..., 1, 0, 0],\n",
       "       [18, 0, 33.77, ..., 0, 1, 0],\n",
       "       [28, 0, 33.0, ..., 0, 1, 0],\n",
       "       ...,\n",
       "       [18, 1, 36.85, ..., 0, 1, 0],\n",
       "       [21, 1, 25.8, ..., 1, 0, 0],\n",
       "       [61, 1, 29.07, ..., 0, 0, 1]], dtype=object)"
      ]
     },
     "execution_count": 64,
     "metadata": {},
     "output_type": "execute_result"
    }
   ],
   "source": [
    "data"
   ]
  },
  {
   "cell_type": "code",
   "execution_count": null,
   "metadata": {
    "colab": {
     "base_uri": "https://localhost:8080/"
    },
    "id": "lC96YHwntfsA",
    "outputId": "83e776c9-8ce0-4a8f-b3fe-b3274fc9c6f2"
   },
   "outputs": [
    {
     "data": {
      "text/plain": [
       "array([[16884.924 ],\n",
       "       [ 1725.5523],\n",
       "       [ 4449.462 ],\n",
       "       ...,\n",
       "       [ 1629.8335],\n",
       "       [ 2007.945 ],\n",
       "       [29141.3603]])"
      ]
     },
     "execution_count": 65,
     "metadata": {},
     "output_type": "execute_result"
    }
   ],
   "source": [
    "target"
   ]
  },
  {
   "cell_type": "markdown",
   "metadata": {
    "id": "b6dsh9sc43jg"
   },
   "source": [
    "# 2.) Split the data into 80/20, in/out sample"
   ]
  },
  {
   "cell_type": "code",
   "execution_count": null,
   "metadata": {
    "id": "4zdi7HCb48X3"
   },
   "outputs": [],
   "source": [
    "cut = int((len(data) * 0.8)//1)"
   ]
  },
  {
   "cell_type": "code",
   "execution_count": null,
   "metadata": {
    "id": "MS4kcuuTUjdq"
   },
   "outputs": [],
   "source": [
    "in_data = data[:cut]\n",
    "out_data = data[cut:]\n",
    "\n",
    "in_target = target[:cut]\n",
    "out_target = target[cut:]"
   ]
  },
  {
   "cell_type": "markdown",
   "metadata": {
    "id": "hnZPWyYg48y9"
   },
   "source": [
    "# 3.) Normalize the Data"
   ]
  },
  {
   "cell_type": "code",
   "execution_count": null,
   "metadata": {
    "id": "eq2VCgOk4-2u"
   },
   "outputs": [],
   "source": [
    "from sklearn import preprocessing"
   ]
  },
  {
   "cell_type": "code",
   "execution_count": null,
   "metadata": {
    "id": "ye4jMpQt4_nP"
   },
   "outputs": [],
   "source": [
    "scaler = preprocessing.StandardScaler().fit(in_data)\n",
    "in_data_scale = scaler.transform(in_data)\n",
    "out_data_scale = scaler.transform(out_data)"
   ]
  },
  {
   "cell_type": "markdown",
   "metadata": {
    "id": "8WC0zdBU5AIQ"
   },
   "source": [
    "# 4.) Get lambda/alpha from Lasso cross validation"
   ]
  },
  {
   "cell_type": "code",
   "execution_count": null,
   "metadata": {
    "colab": {
     "base_uri": "https://localhost:8080/"
    },
    "id": "IAV53xNW5B-4",
    "outputId": "5435d20b-e41d-4db2-9192-36ea2586da91"
   },
   "outputs": [
    {
     "name": "stderr",
     "output_type": "stream",
     "text": [
      "/usr/local/lib/python3.8/dist-packages/sklearn/linear_model/_coordinate_descent.py:1571: DataConversionWarning: A column-vector y was passed when a 1d array was expected. Please change the shape of y to (n_samples, ), for example using ravel().\n",
      "  y = column_or_1d(y, warn=True)\n"
     ]
    },
    {
     "name": "stdout",
     "output_type": "stream",
     "text": [
      "115.9799859390741\n"
     ]
    }
   ],
   "source": [
    "from sklearn.linear_model import LassoCV\n",
    "modCV = LassoCV().fit(in_data_scale, in_target)\n",
    "a = modCV.alpha_\n",
    "print(a)"
   ]
  },
  {
   "cell_type": "markdown",
   "metadata": {
    "id": "_--IC6M65DAG"
   },
   "source": [
    "# 5.) Run a Lasso regression with that Lambda"
   ]
  },
  {
   "cell_type": "code",
   "execution_count": null,
   "metadata": {
    "colab": {
     "base_uri": "https://localhost:8080/"
    },
    "id": "gkdZGF-45EvR",
    "outputId": "3b0f3ae7-a290-4bf6-e0a1-19e02869208b"
   },
   "outputs": [
    {
     "data": {
      "text/plain": [
       "array([3580.35805206,    0.        , 1897.42890992,  415.06890389,\n",
       "       9345.10115447, -238.7634887 , -158.68185954,   -0.        ])"
      ]
     },
     "execution_count": 71,
     "metadata": {},
     "output_type": "execute_result"
    }
   ],
   "source": [
    "from sklearn.linear_model import Lasso \n",
    "mod1 = Lasso(alpha = a).fit(in_data_scale, in_target)\n",
    "mod1.predict(np.array(in_data_scale))\n",
    "mod1.coef_"
   ]
  },
  {
   "cell_type": "markdown",
   "metadata": {
    "id": "bIrU3G0V5Fkd"
   },
   "source": [
    "# 6.) Visualize the coefficients "
   ]
  },
  {
   "cell_type": "code",
   "execution_count": null,
   "metadata": {
    "colab": {
     "base_uri": "https://localhost:8080/",
     "height": 281
    },
    "id": "yHMKovxw5JyP",
    "outputId": "d5d0ab0e-7b12-44af-9256-8433155cfca7"
   },
   "outputs": [
    {
     "data": {
      "image/png": "[encoded data removed]",
      "text/plain": [
       "<Figure size 432x288 with 1 Axes>"
      ]
     },
     "metadata": {
      "needs_background": "light"
     },
     "output_type": "display_data"
    }
   ],
   "source": [
    "objects = ('age', 'sex', 'bmi', 'children', 'smoker', 'region1', 'region2', 'region3')\n",
    "y_num = range(len(objects))\n",
    "plt.bar(y_num, mod1.coef_, align='center', alpha = 0.5)\n",
    "plt.xticks(y_num, objects)\n",
    "plt.title('Coefficients')\n",
    "plt.show()"
   ]
  },
  {
   "cell_type": "markdown",
   "metadata": {
    "id": "_vl1fi9m5Rzf"
   },
   "source": [
    "# 7.) Interpret the coefficients"
   ]
  },
  {
   "cell_type": "markdown",
   "metadata": {
    "id": "2o1MLAm_uEoO"
   },
   "source": [
    "From the graph above:\n",
    "(1) Age has significantly influence the spending in health insurance, older people tend to spend more on it.\n",
    "(2) Sex has no influence on insurance spending, as the Lasso model selects.\n",
    "(3) Bmi has significantly influence the spending in health insurance, people with higher BMI indicator tend to spend more on it.\n",
    "(4) Those with children are inclined to spend more on insurance.\n",
    "(5) Smokers are considerably willing to spend on health insurance.\n",
    "(6) For residential regions, those live in the north (northeast and northwest) has subtle or no difference in health insurance spending. Besides, residents in the south do not spend as much as those in the north."
   ]
  },
  {
   "cell_type": "markdown",
   "metadata": {
    "id": "WpR8BVH05UFU"
   },
   "source": [
    "# 8.) Compare in and out of sample MSE’s"
   ]
  },
  {
   "cell_type": "code",
   "execution_count": null,
   "metadata": {
    "id": "_87TObrJG4s3"
   },
   "outputs": [],
   "source": [
    "in_y_pred = mod1.predict(np.array(in_data_scale))\n",
    "out_y_pred = mod1.predict(np.array(out_data_scale))"
   ]
  },
  {
   "cell_type": "code",
   "execution_count": null,
   "metadata": {
    "id": "8GUc8LoE5Vym"
   },
   "outputs": [],
   "source": [
    "from sklearn.metrics import mean_squared_error\n",
    "out_sample_mse = mean_squared_error(out_y_pred, out_target)\n",
    "in_sample_mse = mean_squared_error(in_y_pred, in_target)"
   ]
  },
  {
   "cell_type": "code",
   "execution_count": null,
   "metadata": {
    "colab": {
     "base_uri": "https://localhost:8080/",
     "height": 291
    },
    "id": "1m8z_hPn5WvY",
    "outputId": "82b2956a-8332-4934-dbb1-b2e87e8d3a22"
   },
   "outputs": [
    {
     "data": {
      "image/png": "[encoded data removed]",
      "text/plain": [
       "<Figure size 432x288 with 1 Axes>"
      ]
     },
     "metadata": {
      "needs_background": "light"
     },
     "output_type": "display_data"
    }
   ],
   "source": [
    "plt.bar(['in', 'out'], [in_sample_mse, out_sample_mse])\n",
    "plt.xlabel('MSE_Comparison')\n",
    "plt.ylabel('Value')\n",
    "plt.show()"
   ]
  }
 ],
 "metadata": {
  "colab": {
   "provenance": []
  },
  "kernelspec": {
   "display_name": "Python 3 (ipykernel)",
   "language": "python",
   "name": "python3"
  },
  "language_info": {
   "codemirror_mode": {
    "name": "ipython",
    "version": 3
   },
   "file_extension": ".py",
   "mimetype": "text/x-python",
   "name": "python",
   "nbconvert_exporter": "python",
   "pygments_lexer": "ipython3",
   "version": "3.9.12"
  }
 },
 "nbformat": 4,
 "nbformat_minor": 1
}
